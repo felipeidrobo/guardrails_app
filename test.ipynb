{
 "cells": [
  {
   "cell_type": "code",
   "execution_count": 3,
   "id": "54c8318d",
   "metadata": {},
   "outputs": [],
   "source": [
    "import requests\n",
    "\n",
    "# URL de la API (ajusta si la estás ejecutando en otro host o puerto)\n",
    "url = \"http://localhost:8080/validate/\"\n",
    "\n",
    "# Texto a validar\n",
    "payload = {\n",
    "    #\"text\": \"I hate you! You are stupid.\"\n",
    "    \"text\": \"I Love u.\"\n",
    "    # Cambia este texto por lo que quieras probar\n",
    "}\n"
   ]
  },
  {
   "cell_type": "code",
   "execution_count": 4,
   "id": "6f6555e1",
   "metadata": {},
   "outputs": [
    {
     "name": "stdout",
     "output_type": "stream",
     "text": [
      "Status code: 200\n",
      "Response JSON: {'status': 'success', 'message': '✅ El texto pasó todas las validaciones.'}\n"
     ]
    }
   ],
   "source": [
    "\n",
    "# Enviar POST\n",
    "response = requests.post(url, json=payload)\n",
    "\n",
    "# Imprimir resultados\n",
    "print(\"Status code:\", response.status_code)\n",
    "print(\"Response JSON:\", response.json())\n"
   ]
  },
  {
   "cell_type": "markdown",
   "id": "3c1ffef8",
   "metadata": {},
   "source": [
    "Solo correr estas lineas cuando la API este montada en Cloud Run"
   ]
  },
  {
   "cell_type": "code",
   "execution_count": 2,
   "id": "1e19c2f4",
   "metadata": {},
   "outputs": [],
   "source": [
    "import requests\n",
    "import time\n",
    "\n",
    "def validar_texto(texto, url):\n",
    "    headers = {\"Content-Type\": \"application/json\"}\n",
    "    payload = {\"text\": texto}\n",
    "    \n",
    "    try:\n",
    "        response = requests.post(url, json=payload, headers=headers)\n",
    "        if response.status_code == 200:\n",
    "            return response.json()\n",
    "        else:\n",
    "            return {\"error\": f\"Error {response.status_code}\", \"text\": texto}\n",
    "    except Exception as e:\n",
    "        return {\"error\": str(e), \"text\": texto}"
   ]
  },
  {
   "cell_type": "code",
   "execution_count": 3,
   "id": "c25a54bc",
   "metadata": {},
   "outputs": [
    {
     "name": "stdout",
     "output_type": "stream",
     "text": [
      "\n",
      "📝 Validando texto #1:\n",
      "📨 Entrada: Hola, ¿cómo estás?\n",
      "📊 Resultado:\n",
      "{'status': 'success', 'message': '✅ El texto pasó todas las validaciones.'}\n",
      "\n",
      "📝 Validando texto #2:\n",
      "📨 Entrada: Este mensaje contiene lenguaje ofensivo.\n",
      "📊 Resultado:\n",
      "{'status': 'success', 'message': '✅ El texto pasó todas las validaciones.'}\n",
      "\n",
      "📝 Validando texto #3:\n",
      "📨 Entrada: Texto normal sin problemas.\n",
      "📊 Resultado:\n",
      "{'status': 'success', 'message': '✅ El texto pasó todas las validaciones.'}\n",
      "\n",
      "📝 Validando texto #4:\n",
      "📨 Entrada: ¡Eres un idiota!\n",
      "📊 Resultado:\n",
      "{'error': 'Error 422', 'text': '¡Eres un idiota!'}\n",
      "\n",
      "📝 Validando texto #5:\n",
      "📨 Entrada: Información confidencial.\n",
      "📊 Resultado:\n",
      "{'status': 'success', 'message': '✅ El texto pasó todas las validaciones.'}\n"
     ]
    }
   ],
   "source": [
    "url = \"https://guardrail-840731636900.us-central1.run.app/validate/\"\n",
    "\n",
    "textos = [\n",
    "    \"Hola, ¿cómo estás?\",\n",
    "    \"Este mensaje contiene lenguaje ofensivo.\",\n",
    "    \"Texto normal sin problemas.\",\n",
    "    \"¡Eres un idiota!\",\n",
    "    \"Información confidencial.\"\n",
    "]\n",
    "\n",
    "for i, texto in enumerate(textos, start=1):\n",
    "    print(f\"\\n📝 Validando texto #{i}:\")\n",
    "    print(f\"📨 Entrada: {texto}\")\n",
    "    \n",
    "    resultado = validar_texto(texto, url)\n",
    "    \n",
    "    print(\"📊 Resultado:\")\n",
    "    print(resultado)\n",
    "\n",
    "    time.sleep(0.5)  # Espera para evitar sobrecarga\n"
   ]
  }
 ],
 "metadata": {
  "kernelspec": {
   "display_name": "env",
   "language": "python",
   "name": "python3"
  },
  "language_info": {
   "codemirror_mode": {
    "name": "ipython",
    "version": 3
   },
   "file_extension": ".py",
   "mimetype": "text/x-python",
   "name": "python",
   "nbconvert_exporter": "python",
   "pygments_lexer": "ipython3",
   "version": "3.12.10"
  }
 },
 "nbformat": 4,
 "nbformat_minor": 5
}
